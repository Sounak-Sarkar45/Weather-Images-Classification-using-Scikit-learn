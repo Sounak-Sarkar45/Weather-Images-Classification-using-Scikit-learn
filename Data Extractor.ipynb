{
 "cells": [
  {
   "cell_type": "code",
   "execution_count": 4,
   "id": "c615c2a7-97c4-418a-b39c-aecef51bd310",
   "metadata": {
    "scrolled": true
   },
   "outputs": [
    {
     "name": "stdout",
     "output_type": "stream",
     "text": [
      "Dataset split and organized successfully!\n"
     ]
    }
   ],
   "source": [
    "import os\n",
    "import shutil\n",
    "from sklearn.model_selection import train_test_split\n",
    "dataset_dir = \"dataset2\"\n",
    "train_dir = \"train\"\n",
    "val_dir = \"val\"\n",
    "labels = [\"cloudy\", \"rain\", \"shine\", \"sunrise\"]\n",
    "if not os.path.exists(dataset_dir) or len(os.listdir(dataset_dir)) == 0:\n",
    "    raise ValueError(f\"The directory '{dataset_dir}' is either missing or empty.\")\n",
    "for label in labels:\n",
    "    os.makedirs(os.path.join(train_dir, label), exist_ok=True)\n",
    "    os.makedirs(os.path.join(val_dir, label), exist_ok=True)\n",
    "files = []\n",
    "for file in os.listdir(dataset_dir):\n",
    "    for label in labels:\n",
    "        if file.startswith(label):\n",
    "            files.append((file, label))\n",
    "            break\n",
    "    else:\n",
    "        print(f\"Skipping file: {file} (no matching label)\")\n",
    "if len(files) == 0:\n",
    "    raise ValueError(\"No valid files found in the dataset directory.\")\n",
    "try:\n",
    "    train_files, val_files = train_test_split(files, test_size=0.2, stratify=[label for _, label in files])\n",
    "except ValueError as e:\n",
    "    print(f\"Error during train-test split: {e}\")\n",
    "    print(\"Ensure each label has sufficient samples for the split.\")\n",
    "    raise\n",
    "def copy_files(file_list, target_dir):\n",
    "    for file, label in file_list:\n",
    "        src_path = os.path.join(dataset_dir, file)\n",
    "        dest_path = os.path.join(target_dir, label, file)\n",
    "        shutil.copy(src_path, dest_path)\n",
    "copy_files(train_files, train_dir)\n",
    "copy_files(val_files, val_dir)\n",
    "print(\"Dataset split and organized successfully!\")"
   ]
  },
  {
   "cell_type": "code",
   "execution_count": 6,
   "id": "1e6a5527-636c-4e74-a89f-ac1cca2facf3",
   "metadata": {},
   "outputs": [
    {
     "data": {
      "text/plain": [
       "900.0"
      ]
     },
     "execution_count": 6,
     "metadata": {},
     "output_type": "execute_result"
    }
   ],
   "source": [
    "0.80*1125"
   ]
  },
  {
   "cell_type": "code",
   "execution_count": null,
   "id": "13a416c7-38c2-47d9-aa56-38d22e490f1b",
   "metadata": {},
   "outputs": [],
   "source": []
  }
 ],
 "metadata": {
  "kernelspec": {
   "display_name": "Python 3 (ipykernel)",
   "language": "python",
   "name": "python3"
  },
  "language_info": {
   "codemirror_mode": {
    "name": "ipython",
    "version": 3
   },
   "file_extension": ".py",
   "mimetype": "text/x-python",
   "name": "python",
   "nbconvert_exporter": "python",
   "pygments_lexer": "ipython3",
   "version": "3.12.4"
  }
 },
 "nbformat": 4,
 "nbformat_minor": 5
}
