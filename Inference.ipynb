{
 "cells": [
  {
   "cell_type": "code",
   "execution_count": 14,
   "id": "75c306ef-8ebe-46fd-acac-b42139e7b4d2",
   "metadata": {},
   "outputs": [
    {
     "name": "stdout",
     "output_type": "stream",
     "text": [
      "['cloudy']\n"
     ]
    }
   ],
   "source": [
    "import pickle\n",
    "\n",
    "from img2vec_pytorch import Img2Vec\n",
    "from PIL import Image\n",
    "\n",
    "\n",
    "with open('./model.p', 'rb') as f:\n",
    "    model = pickle.load(f)\n",
    "\n",
    "img2vec = Img2Vec()\n",
    "\n",
    "image_path = 'weather_dataset/test/cloudy/cloudy132.jpg'\n",
    "\n",
    "img = Image.open(image_path)\n",
    "\n",
    "features = img2vec.get_vec(img)\n",
    "\n",
    "pred = model.predict([features])\n",
    "\n",
    "print(pred)"
   ]
  }
 ],
 "metadata": {
  "kernelspec": {
   "display_name": "Python 3 (ipykernel)",
   "language": "python",
   "name": "python3"
  },
  "language_info": {
   "codemirror_mode": {
    "name": "ipython",
    "version": 3
   },
   "file_extension": ".py",
   "mimetype": "text/x-python",
   "name": "python",
   "nbconvert_exporter": "python",
   "pygments_lexer": "ipython3",
   "version": "3.12.4"
  }
 },
 "nbformat": 4,
 "nbformat_minor": 5
}
